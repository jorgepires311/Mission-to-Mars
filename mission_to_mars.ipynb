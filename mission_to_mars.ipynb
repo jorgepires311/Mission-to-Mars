{
 "cells": [
  {
   "cell_type": "code",
   "execution_count": 1,
   "metadata": {},
   "outputs": [],
   "source": [
    "# Dependencies\n",
    "from bs4 import BeautifulSoup\n",
    "import requests\n",
    "from splinter import Browser\n",
    "import pandas as pd\n",
    "from IPython.core.display import display, HTML"
   ]
  },
  {
   "cell_type": "markdown",
   "metadata": {},
   "source": [
    "## Step 1 - Scraping"
   ]
  },
  {
   "cell_type": "code",
   "execution_count": 2,
   "metadata": {},
   "outputs": [
    {
     "name": "stdout",
     "output_type": "stream",
     "text": [
      "******************\n",
      "\n",
      "\n",
      "NASA Garners 7 Webby Award Nominations\n",
      "\n",
      "\n",
      "Nominees include four JPL projects: the solar system and climate websites, InSight social media, and a 360-degree Earth video. Public voting closes April 18, 2019.\n",
      "\n",
      "******************\n",
      "\n",
      "\n",
      "NASA's Opportunity Rover Mission on Mars Comes to End\n",
      "\n",
      "\n",
      "NASA's Opportunity Mars rover mission is complete after 15 years on Mars. Opportunity's record-breaking exploration laid the groundwork for future missions to the Red Planet.\n",
      "\n",
      "******************\n",
      "\n",
      "\n",
      "NASA's InSight Places First Instrument on Mars\n",
      "\n",
      "\n",
      "In deploying its first instrument onto the surface of Mars, the lander completes a major mission milestone.\n",
      "\n",
      "******************\n",
      "\n",
      "\n",
      "NASA Announces Landing Site for Mars 2020 Rover\n",
      "\n",
      "\n",
      "After a five-year search, NASA has chosen Jezero Crater as the landing site for its upcoming Mars 2020 rover mission.\n",
      "\n",
      "******************\n",
      "\n",
      "\n",
      "Opportunity Hunkers Down During Dust Storm\n",
      "\n",
      "\n",
      "It's the beginning of the end for the planet-encircling dust storm on Mars. But it could still be weeks, or even months, before skies are clear enough for NASA's Opportunity rover to recharge its batteries and phone home. \n",
      "\n",
      "******************\n",
      "\n",
      "\n",
      "NASA Finds Ancient Organic Material, Mysterious Methane on Mars\n",
      "\n",
      "\n",
      "NASA’s Curiosity rover has found evidence on Mars with implications for NASA’s search for life.\n",
      "\n"
     ]
    }
   ],
   "source": [
    "##NASA Mars News\n",
    "urlMarsNews = 'https://mars.nasa.gov/news/'\n",
    "responseMarsNews = requests.get(urlMarsNews)\n",
    "soupMarsNews = BeautifulSoup(responseMarsNews.text, 'html.parser')\n",
    "# print(soupMarsNews.prettify())\n",
    "resultsMarsNews = soupMarsNews.find_all('div', class_=\"slide\")\n",
    "   # Loop through returned results\n",
    "for result in resultsMarsNews:\n",
    "    # Error handling\n",
    "    try:\n",
    "        # Identify and return title of listing\n",
    "        news_title = result.find('div', class_=\"content_title\").text\n",
    "        news_p = result.find('div', class_=\"rollover_description_inner\").text\n",
    "\n",
    "        # Print results only if title, price, and link are available\n",
    "        if (news_title):\n",
    "            print('******************')\n",
    "            print(news_title + news_p)\n",
    "\n",
    "    except AttributeError as e:\n",
    "        print(e)"
   ]
  },
  {
   "cell_type": "code",
   "execution_count": 3,
   "metadata": {},
   "outputs": [
    {
     "name": "stdout",
     "output_type": "stream",
     "text": [
      "requests method: https://www.jpl.nasa.gov/spaceimages/images/mediumsize/PIA19637_ip.jpg\n",
      "splinter method: https://www.jpl.nasa.gov/spaceimages/images/mediumsize/PIA19637_ip.jpg\n"
     ]
    }
   ],
   "source": [
    "##JPL Mars Space Images - Featured Image\n",
    "urlBaseMarsFeatureImg = 'https://www.jpl.nasa.gov'\n",
    "urlMarsFeatureImg = 'https://www.jpl.nasa.gov/spaceimages/?search=&category=Mars'\n",
    "\n",
    "## using Requests\n",
    "responseMarsFeatureImg = requests.get(urlMarsFeatureImg)\n",
    "soupMarsFeatureImg = BeautifulSoup(responseMarsFeatureImg.text, 'html.parser')\n",
    "resultsMarsFeatureImg= soupMarsFeatureImg.find('article', class_='carousel_item')\n",
    "featured_image_url_REQESTS = urlBaseMarsFeatureImg + resultsMarsFeatureImg.a['data-fancybox-href']\n",
    "print('requests method: ' + featured_image_url_REQESTS)\n",
    "\n",
    "## using Splinter\n",
    "executable_path = {'executable_path': 'chromedriver.exe'}\n",
    "browser = Browser('chrome', **executable_path, headless=False)\n",
    "browser.visit(urlMarsFeatureImg)\n",
    "html = browser.html\n",
    "soupMarsSplinter = BeautifulSoup(html, 'html.parser')\n",
    "imgContMarsSplinter = soupMarsSplinter.find('article', class_='carousel_item')\n",
    "featured_image_url = urlBaseMarsFeatureImg + imgContMarsSplinter.a['data-fancybox-href']\n",
    "print('splinter method: ' + featured_image_url)\n",
    "browser.visit(featured_image_url)"
   ]
  },
  {
   "cell_type": "code",
   "execution_count": 8,
   "metadata": {},
   "outputs": [
    {
     "name": "stdout",
     "output_type": "stream",
     "text": [
      "Latest weather on Mars: InSight sol 125 (2019-04-03) low -97.2ºC (-143.0ºF) high -16.8ºC (1.7ºF)\n",
      "winds from the SW at 4.0 m/s (8.9 mph) gusting to 11.7 m/s (26.2 mph)\n",
      "pressure at 7.30 hPapic.twitter.com/ht1lEraC6M\n"
     ]
    }
   ],
   "source": [
    "## Mars Weather\n",
    "urlMarsTwitter = \"https://twitter.com/marswxreport?lang=en\"\n",
    "responseMarsTwitter = requests.get(urlMarsTwitter)\n",
    "soupMarsTwitter = BeautifulSoup(responseMarsTwitter.text, 'html.parser')\n",
    "resultsMarsTwitter = soupMarsTwitter.find_all('li', class_=\"stream-item\")\n",
    "resultsMarsTwitter\n",
    "for result in resultsMarsTwitter:\n",
    "    try:\n",
    "        if ('InSight' in result.find('p', class_=\"tweet-text\").text):\n",
    "            mars_weather = result.find('p', class_=\"tweet-text\").text\n",
    "            exit\n",
    "    except AttributeError as e:\n",
    "        print(e)\n",
    "        \n",
    "print('Latest weather on Mars: ' + mars_weather)"
   ]
  },
  {
   "cell_type": "code",
   "execution_count": 25,
   "metadata": {
    "scrolled": true
   },
   "outputs": [
    {
     "name": "stdout",
     "output_type": "stream",
     "text": [
      "<table border=\"1\" class=\"dataframe\">\n",
      "  <thead>\n",
      "    <tr style=\"text-align: right;\">\n",
      "      <th></th>\n",
      "      <th>Value</th>\n",
      "    </tr>\n",
      "    <tr>\n",
      "      <th>Fact</th>\n",
      "      <th></th>\n",
      "    </tr>\n",
      "  </thead>\n",
      "  <tbody>\n",
      "    <tr>\n",
      "      <th>Equatorial Diameter:</th>\n",
      "      <td>6,792 km</td>\n",
      "    </tr>\n",
      "    <tr>\n",
      "      <th>Polar Diameter:</th>\n",
      "      <td>6,752 km</td>\n",
      "    </tr>\n",
      "    <tr>\n",
      "      <th>Mass:</th>\n",
      "      <td>6.42 x 10^23 kg (10.7% Earth)</td>\n",
      "    </tr>\n",
      "    <tr>\n",
      "      <th>Moons:</th>\n",
      "      <td>2 (Phobos &amp; Deimos)</td>\n",
      "    </tr>\n",
      "    <tr>\n",
      "      <th>Orbit Distance:</th>\n",
      "      <td>227,943,824 km (1.52 AU)</td>\n",
      "    </tr>\n",
      "    <tr>\n",
      "      <th>Orbit Period:</th>\n",
      "      <td>687 days (1.9 years)</td>\n",
      "    </tr>\n",
      "    <tr>\n",
      "      <th>Surface Temperature:</th>\n",
      "      <td>-153 to 20 °C</td>\n",
      "    </tr>\n",
      "    <tr>\n",
      "      <th>First Record:</th>\n",
      "      <td>2nd millennium BC</td>\n",
      "    </tr>\n",
      "    <tr>\n",
      "      <th>Recorded By:</th>\n",
      "      <td>Egyptian astronomers</td>\n",
      "    </tr>\n",
      "  </tbody>\n",
      "</table>\n"
     ]
    }
   ],
   "source": [
    "## Mars Facts\n",
    "urlFacts = \"https://space-facts.com/mars/\"\n",
    "dfFactsTables = pd.read_html(urlFacts)\n",
    "dfFactsTables = dfFactsTables[0]\n",
    "dfFactsTables.columns = ['Fact','Value']\n",
    "dfFactsTables.set_index('Fact',inplace=True)\n",
    "dfFactsTables\n",
    "htmlFactsTables = dfFactsTables.to_html()\n",
    "print(htmlFactsTables)\n"
   ]
  },
  {
   "cell_type": "code",
   "execution_count": 21,
   "metadata": {},
   "outputs": [
    {
     "data": {
      "text/plain": [
       "[{'title': 'Cerberus Hemisphere Enhanced',\n",
       "  'img_url': 'https://astrogeology.usgs.gov/cache/images/cfa62af2557222a02478f1fcd781d445_cerberus_enhanced.tif_full.jpg'},\n",
       " {'title': 'Schiaparelli Hemisphere Enhanced',\n",
       "  'img_url': 'https://astrogeology.usgs.gov/cache/images/3cdd1cbf5e0813bba925c9030d13b62e_schiaparelli_enhanced.tif_full.jpg'},\n",
       " {'title': 'Syrtis Major Hemisphere Enhanced',\n",
       "  'img_url': 'https://astrogeology.usgs.gov/cache/images/ae209b4e408bb6c3e67b6af38168cf28_syrtis_major_enhanced.tif_full.jpg'},\n",
       " {'title': 'Valles Marineris Hemisphere Enhanced',\n",
       "  'img_url': 'https://astrogeology.usgs.gov/cache/images/7cf2da4bf549ed01c17f206327be4db7_valles_marineris_enhanced.tif_full.jpg'}]"
      ]
     },
     "execution_count": 21,
     "metadata": {},
     "output_type": "execute_result"
    }
   ],
   "source": [
    "## Mars Hemispheres\n",
    "executable_path = {'executable_path': 'chromedriver.exe'}\n",
    "browser = Browser('chrome', **executable_path, headless=False)\n",
    "urlHemi = 'https://astrogeology.usgs.gov/search/results?q=hemisphere+enhanced&k1=target&v1=Mars'\n",
    "browser.visit(urlHemi)\n",
    "htmlHemi = browser.html\n",
    "soupHemi = BeautifulSoup(htmlHemi,'html.parser')\n",
    "listHemi = soupHemi.find_all('div',class_=\"item\")\n",
    "urlsHemi = []\n",
    "for result in listHemi:\n",
    "    try:\n",
    "        urlsHemi.append('https://astrogeology.usgs.gov'+result.a['href'])\n",
    "    except AttributeError as e:\n",
    "        print(e)\n",
    "urlsHemi\n",
    "listDictHemi = []\n",
    "for url in urlsHemi:\n",
    "    browser.visit(url)\n",
    "    urlHTML = browser.html\n",
    "    soupHTML = BeautifulSoup(urlHTML,'html.parser')\n",
    "    urlTitle = soupHTML.find('h2',class_='title').text\n",
    "    urlImg = 'https://astrogeology.usgs.gov'+soupHTML.find('img',class_='wide-image')['src']\n",
    "    listDictHemi.append({'title':urlTitle,'img_url':urlImg})\n",
    "    \n",
    "listDictHemi"
   ]
  },
  {
   "cell_type": "code",
   "execution_count": null,
   "metadata": {},
   "outputs": [],
   "source": []
  }
 ],
 "metadata": {
  "kernelspec": {
   "display_name": "Python 3",
   "language": "python",
   "name": "python3"
  },
  "language_info": {
   "codemirror_mode": {
    "name": "ipython",
    "version": 3
   },
   "file_extension": ".py",
   "mimetype": "text/x-python",
   "name": "python",
   "nbconvert_exporter": "python",
   "pygments_lexer": "ipython3",
   "version": "3.7.1"
  }
 },
 "nbformat": 4,
 "nbformat_minor": 2
}
