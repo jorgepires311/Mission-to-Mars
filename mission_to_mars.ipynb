{
 "cells": [
  {
   "cell_type": "code",
   "execution_count": 47,
   "metadata": {},
   "outputs": [],
   "source": [
    "# Dependencies\n",
    "from bs4 import BeautifulSoup\n",
    "import requests\n",
    "from splinter import Browser\n",
    "import pandas as pd\n",
    "from IPython.core.display import display, HTML"
   ]
  },
  {
   "cell_type": "markdown",
   "metadata": {},
   "source": [
    "## Step 1 - Scraping"
   ]
  },
  {
   "cell_type": "code",
   "execution_count": 3,
   "metadata": {},
   "outputs": [
    {
     "name": "stdout",
     "output_type": "stream",
     "text": [
      "******************\n",
      "\n",
      "\n",
      "NASA Garners 7 Webby Award Nominations\n",
      "\n",
      "\n",
      "Nominees include four JPL projects: the solar system and climate websites, InSight social media, and a 360-degree Earth video. Public voting closes April 18, 2019.\n",
      "\n",
      "******************\n",
      "\n",
      "\n",
      "NASA's Opportunity Rover Mission on Mars Comes to End\n",
      "\n",
      "\n",
      "NASA's Opportunity Mars rover mission is complete after 15 years on Mars. Opportunity's record-breaking exploration laid the groundwork for future missions to the Red Planet.\n",
      "\n",
      "******************\n",
      "\n",
      "\n",
      "NASA's InSight Places First Instrument on Mars\n",
      "\n",
      "\n",
      "In deploying its first instrument onto the surface of Mars, the lander completes a major mission milestone.\n",
      "\n",
      "******************\n",
      "\n",
      "\n",
      "NASA Announces Landing Site for Mars 2020 Rover\n",
      "\n",
      "\n",
      "After a five-year search, NASA has chosen Jezero Crater as the landing site for its upcoming Mars 2020 rover mission.\n",
      "\n",
      "******************\n",
      "\n",
      "\n",
      "Opportunity Hunkers Down During Dust Storm\n",
      "\n",
      "\n",
      "It's the beginning of the end for the planet-encircling dust storm on Mars. But it could still be weeks, or even months, before skies are clear enough for NASA's Opportunity rover to recharge its batteries and phone home. \n",
      "\n",
      "******************\n",
      "\n",
      "\n",
      "NASA Finds Ancient Organic Material, Mysterious Methane on Mars\n",
      "\n",
      "\n",
      "NASA’s Curiosity rover has found evidence on Mars with implications for NASA’s search for life.\n",
      "\n"
     ]
    }
   ],
   "source": [
    "##NASA Mars News\n",
    "urlMarsNews = 'https://mars.nasa.gov/news/'\n",
    "responseMarsNews = requests.get(urlMarsNews)\n",
    "soupMarsNews = BeautifulSoup(responseMarsNews.text, 'html.parser')\n",
    "# print(soupMarsNews.prettify())\n",
    "resultsMarsNews = soupMarsNews.find_all('div', class_=\"slide\")\n",
    "   # Loop through returned results\n",
    "for result in resultsMarsNews:\n",
    "    # Error handling\n",
    "    try:\n",
    "        # Identify and return title of listing\n",
    "        news_title = result.find('div', class_=\"content_title\").text\n",
    "        news_p = result.find('div', class_=\"rollover_description_inner\").text\n",
    "\n",
    "        # Print results only if title, price, and link are available\n",
    "        if (news_title):\n",
    "            print('******************')\n",
    "            print(news_title + news_p)\n",
    "\n",
    "    except AttributeError as e:\n",
    "        print(e)"
   ]
  },
  {
   "cell_type": "code",
   "execution_count": 15,
   "metadata": {},
   "outputs": [
    {
     "name": "stdout",
     "output_type": "stream",
     "text": [
      "requests method: https://www.jpl.nasa.gov/spaceimages/images/mediumsize/PIA19821_ip.jpg\n",
      "splinter method: https://www.jpl.nasa.gov/spaceimages/images/mediumsize/PIA19821_ip.jpg\n"
     ]
    }
   ],
   "source": [
    "##JPL Mars Space Images - Featured Image\n",
    "urlBaseMarsFeatureImg = 'https://www.jpl.nasa.gov'\n",
    "urlMarsFeatureImg = 'https://www.jpl.nasa.gov/spaceimages/?search=&category=Mars'\n",
    "\n",
    "## using Requests\n",
    "responseMarsFeatureImg = requests.get(urlMarsFeatureImg)\n",
    "soupMarsFeatureImg = BeautifulSoup(responseMarsFeatureImg.text, 'html.parser')\n",
    "resultsMarsFeatureImg= soupMarsFeatureImg.find('article', class_='carousel_item')\n",
    "featured_image_url_REQESTS = urlBaseMarsFeatureImg + resultsMarsFeatureImg.a['data-fancybox-href']\n",
    "print('requests method: ' + featured_image_url_REQESTS)\n",
    "\n",
    "## using Splinter\n",
    "executable_path = {'executable_path': 'chromedriver.exe'}\n",
    "browser = Browser('chrome', **executable_path, headless=False)\n",
    "browser.visit(urlMarsFeatureImg)\n",
    "html = browser.html\n",
    "soupMarsSplinter = BeautifulSoup(html, 'html.parser')\n",
    "imgContMarsSplinter = soupMarsSplinter.find('article', class_='carousel_item')\n",
    "featured_image_url = urlBaseMarsFeatureImg + imgContMarsSplinter.a['data-fancybox-href']\n",
    "print('splinter method: ' + featured_image_url)"
   ]
  },
  {
   "cell_type": "code",
   "execution_count": 30,
   "metadata": {},
   "outputs": [
    {
     "name": "stdout",
     "output_type": "stream",
     "text": [
      "Latest weather on Mars: InSight sol 124 (2019-04-02) low -97.9ºC (-144.2ºF) high -16.7ºC (2.0ºF)\n",
      "winds from the SW at 4.0 m/s (9.0 mph) gusting to 11.8 m/s (26.3 mph)\n",
      "pressure at 7.30 hPapic.twitter.com/5qlTMQUtJW\n"
     ]
    }
   ],
   "source": [
    "## Mars Weather\n",
    "urlMarsTwitter = \"https://twitter.com/marswxreport?lang=en\"\n",
    "responseMarsTwitter = requests.get(urlMarsTwitter)\n",
    "soupMarsTwitter = BeautifulSoup(responseMarsTwitter.text, 'html.parser')\n",
    "# print(soupMarsNews.prettify())\n",
    "resultsMarsTwitter = soupMarsTwitter.find_all('li', class_=\"stream-item\")\n",
    "resultsMarsTwitter\n",
    "# Loop through returned results\n",
    "for result in resultsMarsTwitter:\n",
    "    # Error handling\n",
    "    try:\n",
    "        # Identify and return title of listing\n",
    "        mars_weather = result.find('p', class_=\"tweet-text\").text\n",
    "        # Print results only if title, price, and link are available\n",
    "        if ('Insight' in mars_weather):\n",
    "            exit\n",
    "    except AttributeError as e:\n",
    "        print(e)\n",
    "print('Latest weather on Mars: ' + mars_weather)"
   ]
  },
  {
   "cell_type": "code",
   "execution_count": 43,
   "metadata": {
    "scrolled": true
   },
   "outputs": [
    {
     "name": "stdout",
     "output_type": "stream",
     "text": [
      "<table border=\"1\" class=\"dataframe\">\n",
      "  <thead>\n",
      "    <tr style=\"text-align: right;\">\n",
      "      <th></th>\n",
      "      <th>Fact</th>\n",
      "      <th>Value</th>\n",
      "    </tr>\n",
      "  </thead>\n",
      "  <tbody>\n",
      "    <tr>\n",
      "      <th>0</th>\n",
      "      <td>Equatorial Diameter:</td>\n",
      "      <td>6,792 km</td>\n",
      "    </tr>\n",
      "    <tr>\n",
      "      <th>1</th>\n",
      "      <td>Polar Diameter:</td>\n",
      "      <td>6,752 km</td>\n",
      "    </tr>\n",
      "    <tr>\n",
      "      <th>2</th>\n",
      "      <td>Mass:</td>\n",
      "      <td>6.42 x 10^23 kg (10.7% Earth)</td>\n",
      "    </tr>\n",
      "    <tr>\n",
      "      <th>3</th>\n",
      "      <td>Moons:</td>\n",
      "      <td>2 (Phobos &amp; Deimos)</td>\n",
      "    </tr>\n",
      "    <tr>\n",
      "      <th>4</th>\n",
      "      <td>Orbit Distance:</td>\n",
      "      <td>227,943,824 km (1.52 AU)</td>\n",
      "    </tr>\n",
      "    <tr>\n",
      "      <th>5</th>\n",
      "      <td>Orbit Period:</td>\n",
      "      <td>687 days (1.9 years)</td>\n",
      "    </tr>\n",
      "    <tr>\n",
      "      <th>6</th>\n",
      "      <td>Surface Temperature:</td>\n",
      "      <td>-153 to 20 °C</td>\n",
      "    </tr>\n",
      "    <tr>\n",
      "      <th>7</th>\n",
      "      <td>First Record:</td>\n",
      "      <td>2nd millennium BC</td>\n",
      "    </tr>\n",
      "    <tr>\n",
      "      <th>8</th>\n",
      "      <td>Recorded By:</td>\n",
      "      <td>Egyptian astronomers</td>\n",
      "    </tr>\n",
      "  </tbody>\n",
      "</table>\n"
     ]
    }
   ],
   "source": [
    "## Mars Facts\n",
    "urlFacts = \"https://space-facts.com/mars/\"\n",
    "dfFactsTables = pd.read_html(urlFacts)\n",
    "dfFactsTables = dfFactsTables[0]\n",
    "dfFactsTables.columns = ['Fact','Value']\n",
    "htmlFactsTables = dfFactsTables.to_html()\n",
    "print(htmlFactsTables)\n"
   ]
  },
  {
   "cell_type": "code",
   "execution_count": 48,
   "metadata": {},
   "outputs": [],
   "source": [
    "## Mars Hemispheres\n",
    "executable_path = {'executable_path': 'chromedriver.exe'}\n",
    "browser = Browser('chrome', **executable_path, headless=False)\n",
    "urlHemi = 'https://astrogeology.usgs.gov/search/results?q=hemisphere+enhanced&k1=target&v1=Mars'\n",
    "browser.visit(urlHemi)"
   ]
  }
 ],
 "metadata": {
  "kernelspec": {
   "display_name": "Python 3",
   "language": "python",
   "name": "python3"
  },
  "language_info": {
   "codemirror_mode": {
    "name": "ipython",
    "version": 3
   },
   "file_extension": ".py",
   "mimetype": "text/x-python",
   "name": "python",
   "nbconvert_exporter": "python",
   "pygments_lexer": "ipython3",
   "version": "3.7.1"
  }
 },
 "nbformat": 4,
 "nbformat_minor": 2
}
